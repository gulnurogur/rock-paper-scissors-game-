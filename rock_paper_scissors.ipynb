{
  "nbformat": 4,
  "nbformat_minor": 0,
  "metadata": {
    "colab": {
      "name": "rock-paper-scissors.ipynb",
      "provenance": [],
      "collapsed_sections": [],
      "authorship_tag": "ABX9TyOF7bcS30BXLyRFxfVcUJc1",
      "include_colab_link": true
    },
    "kernelspec": {
      "name": "python3",
      "display_name": "Python 3"
    },
    "language_info": {
      "name": "python"
    }
  },
  "cells": [
    {
      "cell_type": "markdown",
      "metadata": {
        "id": "view-in-github",
        "colab_type": "text"
      },
      "source": [
        "<a href=\"https://colab.research.google.com/github/gulnurogur/rock-paper-scissors-game-/blob/main/rock_paper_scissors.ipynb\" target=\"_parent\"><img src=\"https://colab.research.google.com/assets/colab-badge.svg\" alt=\"Open In Colab\"/></a>"
      ]
    },
    {
      "cell_type": "code",
      "execution_count": 1,
      "metadata": {
        "id": "zbFDj1YDVCF0"
      },
      "outputs": [],
      "source": [
        "import random"
      ]
    },
    {
      "cell_type": "code",
      "source": [
        "action_list = [\"rock\", \"paper\", \"scissors\"]"
      ],
      "metadata": {
        "id": "1CwDjClsVYyE"
      },
      "execution_count": 7,
      "outputs": []
    },
    {
      "cell_type": "code",
      "source": [
        "computer_score = 0\n",
        "player_score = 0\n",
        "\n",
        "total_rounds = input(\"How manyrounds do you want to play? Please enter a number here: \")\n",
        "\n",
        "round_counter = 0\n",
        "\n",
        "while True:\n",
        "  round_counter += 1\n",
        "  print(\"Round number:\", round_counter)\n",
        "\n",
        "\n",
        "  computer_choice = random.choice(action_list)\n",
        "\n",
        "  player_choice = input(\"Please choose your action: \")\n",
        "\n",
        "  print(\"Computer: \", computer_choice)\n",
        "  print(\"Player: \", player_choice)\n",
        "\n",
        "  if computer_choice == player_choice:\n",
        "    print(\"Tie! Both players choose the same action\")\n",
        "\n",
        "\n",
        "  elif computer_choice == \"paper\":\n",
        "    if player_choice == \"rock\":\n",
        "      print(\"Winner is: Computer\")\n",
        "      computer_score += 1\n",
        "    else:\n",
        "      print(\"Winner is: Player\")\n",
        "      player_score += 1\n",
        "\n",
        "  elif computer_choice == \"rock\":\n",
        "    if player_choice == \"paper\":\n",
        "      print(\"Winner is: Player\")\n",
        "      computer_score += 1\n",
        "    else:\n",
        "      print(\"Winner is: Computer\")\n",
        "      player_score += 1\n",
        "\n",
        "  elif computer_choice == \"scissors\":\n",
        "    if player_choice == \"paper\":\n",
        "      print(\"Winner is: Computer\")\n",
        "      computer_score += 1\n",
        "    else:\n",
        "      print(\"Winner is: Player\")\n",
        "      player_score += 1\n",
        "\n",
        "  elif computer_choice == \"paper\":\n",
        "    if player_choice == \"scissors\":\n",
        "      print(\"Winner is: Player\")\n",
        "      computer_score += 1\n",
        "    else:\n",
        "      print(\"Winner is: Computer\")\n",
        "      player_score += 1\n",
        "\n",
        "  elif computer_choice == \"rock\":\n",
        "    if player_choice == \"scissors\":\n",
        "      print(\"Winner is: Computer\")\n",
        "      computer_score += 1\n",
        "    else:\n",
        "      print(\"Winner is: Player\")\n",
        "      player_score += 1\n",
        "\n",
        "  elif computer_choice == \"scissors\":\n",
        "    if player_choice == \"rock\":\n",
        "      print(\"Winner is: Player\")\n",
        "      computer_score += 1\n",
        "    else:\n",
        "      print(\"Winner is: Computer\")\n",
        "      player_score += 1\n",
        "\n",
        "\n",
        "  if round_counter == int(total_rounds):\n",
        "    break\n",
        "\n",
        "\n",
        "if computer_score == player_score:\n",
        "  print(\"There is no winner, tie.\", computer_score, \":\", player_score)\n",
        "elif computer_score > player_score:\n",
        "  print(\"Computer won with score\", computer_score, \":\", player_score)\n",
        "elif computer_score < player_score:\n",
        "  print(\"Player won with score\", computer_score, \":\", player_score)\n"
      ],
      "metadata": {
        "colab": {
          "base_uri": "https://localhost:8080/"
        },
        "id": "i4HbAifpVeqT",
        "outputId": "ccf563da-4f37-45bc-961c-24b3b8b545a8"
      },
      "execution_count": 11,
      "outputs": [
        {
          "output_type": "stream",
          "name": "stdout",
          "text": [
            "How manyrounds do you want to play? Please enter a number here: 3\n",
            "Round number: 1\n",
            "Please choose your action: rock\n",
            "Computer:  scissors\n",
            "Player:  rock\n",
            "Winner is: Player\n",
            "Round number: 2\n",
            "Please choose your action: paper\n",
            "Computer:  scissors\n",
            "Player:  paper\n",
            "Winner is: Computer\n",
            "Round number: 3\n",
            "Please choose your action: scissors\n",
            "Computer:  paper\n",
            "Player:  scissors\n",
            "Winner is: Player\n",
            "Player won with score 1 : 2\n"
          ]
        }
      ]
    }
  ]
}